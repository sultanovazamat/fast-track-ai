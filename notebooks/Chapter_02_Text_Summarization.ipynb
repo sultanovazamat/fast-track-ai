{
  "nbformat": 4,
  "nbformat_minor": 0,
  "metadata": {
    "colab": {
      "provenance": []
    },
    "kernelspec": {
      "name": "python3",
      "display_name": "Python 3"
    },
    "language_info": {
      "name": "python"
    }
  },
  "cells": [
    {
      "cell_type": "code",
      "execution_count": null,
      "metadata": {
        "colab": {
          "base_uri": "https://localhost:8080/"
        },
        "id": "yD6Yxe2xVigs",
        "outputId": "07c4b926-75f8-4b57-f9bf-545541d2d6da"
      },
      "outputs": [
        {
          "output_type": "stream",
          "name": "stdout",
          "text": [
            "Requirement already satisfied: transformers in /usr/local/lib/python3.10/dist-packages (4.46.2)\n",
            "Requirement already satisfied: filelock in /usr/local/lib/python3.10/dist-packages (from transformers) (3.16.1)\n",
            "Requirement already satisfied: huggingface-hub<1.0,>=0.23.2 in /usr/local/lib/python3.10/dist-packages (from transformers) (0.26.2)\n",
            "Requirement already satisfied: numpy>=1.17 in /usr/local/lib/python3.10/dist-packages (from transformers) (1.26.4)\n",
            "Requirement already satisfied: packaging>=20.0 in /usr/local/lib/python3.10/dist-packages (from transformers) (24.2)\n",
            "Requirement already satisfied: pyyaml>=5.1 in /usr/local/lib/python3.10/dist-packages (from transformers) (6.0.2)\n",
            "Requirement already satisfied: regex!=2019.12.17 in /usr/local/lib/python3.10/dist-packages (from transformers) (2024.9.11)\n",
            "Requirement already satisfied: requests in /usr/local/lib/python3.10/dist-packages (from transformers) (2.32.3)\n",
            "Requirement already satisfied: safetensors>=0.4.1 in /usr/local/lib/python3.10/dist-packages (from transformers) (0.4.5)\n",
            "Requirement already satisfied: tokenizers<0.21,>=0.20 in /usr/local/lib/python3.10/dist-packages (from transformers) (0.20.3)\n",
            "Requirement already satisfied: tqdm>=4.27 in /usr/local/lib/python3.10/dist-packages (from transformers) (4.66.6)\n",
            "Requirement already satisfied: fsspec>=2023.5.0 in /usr/local/lib/python3.10/dist-packages (from huggingface-hub<1.0,>=0.23.2->transformers) (2024.10.0)\n",
            "Requirement already satisfied: typing-extensions>=3.7.4.3 in /usr/local/lib/python3.10/dist-packages (from huggingface-hub<1.0,>=0.23.2->transformers) (4.12.2)\n",
            "Requirement already satisfied: charset-normalizer<4,>=2 in /usr/local/lib/python3.10/dist-packages (from requests->transformers) (3.4.0)\n",
            "Requirement already satisfied: idna<4,>=2.5 in /usr/local/lib/python3.10/dist-packages (from requests->transformers) (3.10)\n",
            "Requirement already satisfied: urllib3<3,>=1.21.1 in /usr/local/lib/python3.10/dist-packages (from requests->transformers) (2.2.3)\n",
            "Requirement already satisfied: certifi>=2017.4.17 in /usr/local/lib/python3.10/dist-packages (from requests->transformers) (2024.8.30)\n"
          ]
        }
      ],
      "source": [
        "!pip install transformers==4.46.2"
      ]
    },
    {
      "cell_type": "code",
      "source": [
        "from transformers import pipeline\n",
        "\n",
        "# Initialize the summarization pipeline\n",
        "summarizer = pipeline(\"summarization\")\n",
        "\n",
        "# Your long text goes here\n",
        "text = \"\"\"\n",
        "Motivation can be a tricky thing. At its best, it’s a powerful force that drives us to accomplish our goals, tackle new challenges, and push ourselves beyond our limits. But, at its worst, motivation can feel like a fleeting spark that quickly fades, leaving us wondering why we’ve suddenly lost the drive to do even the simplest tasks. So, what causes people to lose motivation?\n",
        "One major factor is lack of clear goals. Without a clear vision of what we’re working toward, it’s easy to feel lost or aimless. If the end goal feels too distant or unclear, we might start questioning why we’re even putting in the effort. It’s like walking on a path that seems to stretch on forever without any signposts—it’s hard to stay energized when you can’t see where you’re going.\n",
        "Overwhelm is another common culprit. When tasks pile up and the demands on our time seem endless, it can feel like there’s too much to do and not enough energy to do it. This sense of being overwhelmed can drain motivation, making us procrastinate or avoid tasks altogether. Sometimes, it’s just easier to ignore the problem than face it head-on.\n",
        "Additionally, lack of progress can lead to a drop in motivation. If we feel like we’re putting in a lot of effort but not seeing results, it’s easy to become discouraged. Small wins are essential to keeping motivation alive. Without them, it can feel like you’re running a marathon that never ends.\n",
        "External factors such as stress, poor health, or negative environments can also zap motivation. When life feels heavy or we’re dealing with personal challenges, it’s tough to summon the energy needed to stay on track. Our bodies and minds can only handle so much, and if we’re not taking care of ourselves, motivation can easily slip away.\n",
        "Lastly, burnout is a real danger for many people. Overworking ourselves without proper breaks or boundaries can lead to physical and mental exhaustion. When this happens, motivation often disappears because our bodies and minds are simply too worn out to keep going at full speed.\n",
        "In many cases, motivation isn’t something that’s constant or reliable. It comes and goes, and sometimes, the best we can do is understand why it’s faltering and take steps to reignite that spark. Whether it’s setting clearer goals, finding small victories, or simply taking a break, there are ways to get back on track. The key is to recognize that a lack of motivation doesn’t mean failure; it’s often a signal that we need to adjust our approach or recharge before moving forward.\n",
        "\"\"\"\n",
        "\n",
        "# Generate a summary\n",
        "summary = summarizer(text, max_length=100, min_length=50, do_sample=False)"
      ],
      "metadata": {
        "colab": {
          "base_uri": "https://localhost:8080/"
        },
        "id": "oQaqX7QfVjeM",
        "outputId": "bd221dbb-8560-452d-ba9b-3dd59423bd1b"
      },
      "execution_count": 14,
      "outputs": [
        {
          "output_type": "stream",
          "name": "stderr",
          "text": [
            "No model was supplied, defaulted to sshleifer/distilbart-cnn-12-6 and revision a4f8f3e (https://huggingface.co/sshleifer/distilbart-cnn-12-6).\n",
            "Using a pipeline without specifying a model name and revision in production is not recommended.\n"
          ]
        }
      ]
    },
    {
      "cell_type": "code",
      "source": [
        "print('Summary: ', summary[0]['summary_text'])"
      ],
      "metadata": {
        "colab": {
          "base_uri": "https://localhost:8080/"
        },
        "id": "YbJXzb6pSBhv",
        "outputId": "76522d31-4cc6-4550-eae6-71de6a93eaef"
      },
      "execution_count": 15,
      "outputs": [
        {
          "output_type": "stream",
          "name": "stdout",
          "text": [
            "Summary:   At its worst, motivation can feel like a fleeting spark that quickly fades, leaving us wondering why we’ve suddenly lost the drive to do even the simplest tasks . One major factor is a lack of clear goals, which can lead to a drop in motivation . Overworking ourselves without proper breaks or boundaries can cause motivation to fade .\n"
          ]
        }
      ]
    },
    {
      "cell_type": "code",
      "source": [],
      "metadata": {
        "id": "9bppxqyoSFf0"
      },
      "execution_count": null,
      "outputs": []
    }
  ]
}